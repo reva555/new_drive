{
  "cells": [
    {
      "cell_type": "code",
      "execution_count": null,
      "metadata": {
        "id": "VjYy0F2gZIPR"
      },
      "outputs": [],
      "source": [
        "!pip install pygit2==1.15.1\n",
        "\n",
        "!pip install --upgrade gradio\n",
        "\n",
        "%cd /content\n",
        "\n",
        "!git clone https://github.com/lllyasviel/Fooocus.git\n",
        "\n",
        "%cd /content/Fooocus\n",
        "\n",
        "!apt install aria2\n",
        "\n",
        "!aria2c -x 8 -s 8 https://huggingface.co/Bedovyy/arcaillous-xl/resolve/main/arcaillous-nbxl-v05.safetensors -o models/checkpoints/arcaillous-nbxl-v0.safetensors\n",
        "\n",
        "!python entry_with_update.py --share --always-high-vram\n",
        "\n",
        "\n"
      ]
    }
  ],
  "metadata": {
    "accelerator": "GPU",
    "colab": {
      "gpuType": "T4",
      "provenance": []
    },
    "kernelspec": {
      "display_name": "Python 3",
      "name": "python3"
    },
    "language_info": {
      "name": "python"
    }
  },
  "nbformat": 4,
  "nbformat_minor": 0
}